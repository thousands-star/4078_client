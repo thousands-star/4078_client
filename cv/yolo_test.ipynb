{
 "cells": [
  {
   "cell_type": "code",
   "execution_count": 5,
   "metadata": {},
   "outputs": [
    {
     "name": "stdout",
     "output_type": "stream",
     "text": [
      "Press 'c' to capture an image, or 'q' to quit.\n",
      "\n",
      "0: 608x800 (no detections), 282.5ms\n",
      "Speed: 3.2ms preprocess, 282.5ms inference, 1.0ms postprocess per image at shape (1, 3, 608, 800)\n",
      "Inference Time 2.05s, approx 0.49fps\n",
      "\n",
      "[]\n",
      "<class 'list'>\n",
      "\n",
      "\n",
      "[]\n",
      "Image captured and saved with detections.\n",
      "Quitting...\n"
     ]
    }
   ],
   "source": [
    "import random\n",
    "import cv2\n",
    "import time\n",
    "import numpy as np\n",
    "from cv.detector import YOLODetector\n",
    "from cv.predictor import Fruit_Predictor\n",
    "\n",
    "# Initialize the YOLO Detector\n",
    "model_path = r\"C:\\Users\\Public\\ECE4078\\project\\cv\\model\\YOLO_best.pt\"\n",
    "cameraMatrix = r\"C:\\Users\\Public\\ECE4078\\project\\calibration\\param\\intrinsic.txt\"\n",
    "detector = YOLODetector(model_path, use_gpu=False)  # Set `use_gpu=True` if you want to use GPU\n",
    "predictor = Fruit_Predictor(camera_matrix_file=cameraMatrix)\n",
    "\n",
    "# Open the computer's default camera (you can change '0' to another number for a different camera)\n",
    "cap = cv2.VideoCapture(0)\n",
    "\n",
    "# Check if the camera opened successfully\n",
    "if not cap.isOpened():\n",
    "    print(\"Error: Could not open the camera.\")\n",
    "    exit()\n",
    "\n",
    "print(\"Press 'c' to capture an image, or 'q' to quit.\")\n",
    "\n",
    "while True:\n",
    "    # Capture frame-by-frame\n",
    "    ret, frame = cap.read()\n",
    "\n",
    "    if not ret:\n",
    "        print(\"Error: Could not read the frame.\")\n",
    "        break\n",
    "\n",
    "    # Display the frame to the user\n",
    "    cv2.imshow(\"Camera Feed\", frame)\n",
    "\n",
    "    # Wait for user input\n",
    "    key = cv2.waitKey(1) & 0xFF\n",
    "\n",
    "    # If the user presses 'c', capture the photo\n",
    "    if key == ord('c'):\n",
    "        img = frame  # Save the captured frame for processing\n",
    "\n",
    "        # Perform YOLO detection using the `YOLODetector`\n",
    "        formatted_output, colour_map = detector.detect_single_image(img)\n",
    "\n",
    "        print(\"\\n\")\n",
    "        print(formatted_output)\n",
    "        print(type(formatted_output))\n",
    "        print(\"\\n\")\n",
    "        print(predictor.get_fruit_positions_relative_to_camera(formatted_output,fruit='capsicum'))\n",
    "        \n",
    "        # Save the detection results to an image\n",
    "        cv2.imwrite(\"captured_image_with_yolo.png\", colour_map)\n",
    "        print(\"Image captured and saved with detections.\")\n",
    "\n",
    "\n",
    "        # Display the detection result\n",
    "        cv2.imshow(\"YOLO Detection\", colour_map)\n",
    "\n",
    "    # If the user presses 'q', quit the loop\n",
    "    elif key == ord('q'):\n",
    "        print(\"Quitting...\")\n",
    "        break\n",
    "\n",
    "# Release the camera and close all OpenCV windows\n",
    "cap.release()\n",
    "cv2.destroyAllWindows()\n"
   ]
  },
  {
   "cell_type": "code",
   "execution_count": 14,
   "metadata": {},
   "outputs": [],
   "source": [
    "import random\n",
    "import cv2\n",
    "import time\n",
    "import numpy as np\n",
    "from detector import YOLODetector\n",
    "from predictor import Fruit_Predictor\n",
    "from pibot import PibotControl\n",
    "\n",
    "# Initialize the YOLO Detector\n",
    "model_path = r\"C:\\Users\\Public\\ECE4078\\project\\cv\\model\\YOLO_best.pt\"\n",
    "cameraMatrix = r\"C:\\Users\\Public\\ECE4078\\project\\calibration\\param\\intrinsic.txt\"\n",
    "detector = YOLODetector(model_path, use_gpu=False)  # Set `use_gpu=True` if you want to use GPU\n",
    "predictor = Fruit_Predictor(camera_matrix_file=cameraMatrix)"
   ]
  },
  {
   "cell_type": "code",
   "execution_count": 15,
   "metadata": {},
   "outputs": [],
   "source": [
    "# create a bot instance\n",
    "ip = '192.168.0.104'\n",
    "port = 5000\n",
    "bot = PibotControl(ip, 5000)\n"
   ]
  },
  {
   "cell_type": "code",
   "execution_count": 47,
   "metadata": {},
   "outputs": [
    {
     "data": {
      "text/plain": [
       "True"
      ]
     },
     "execution_count": 47,
     "metadata": {},
     "output_type": "execute_result"
    }
   ],
   "source": [
    "# take a photo\n",
    "img = bot.get_image()\n",
    "# cv2.imshow(\"image\", img)\n",
    "cv2.imwrite(\"test.png\", img)"
   ]
  },
  {
   "cell_type": "code",
   "execution_count": 48,
   "metadata": {},
   "outputs": [
    {
     "name": "stdout",
     "output_type": "stream",
     "text": [
      "\n",
      "0: 608x800 1 mango, 299.4ms\n",
      "Speed: 1.0ms preprocess, 299.4ms inference, 0.0ms postprocess per image at shape (1, 3, 608, 800)\n",
      "Inference Time 0.30s, approx 3.31fps\n",
      "\n",
      "[[4, 128, 328, 185, 359]]\n",
      "<class 'list'>\n",
      "\n",
      "\n",
      "\n",
      "\n",
      "[[4, 128, 328, 185, 359]]\n",
      "<class 'list'>\n",
      "\n",
      "\n",
      "X distance: -0.1663144757469222 , Z distance: 1.738857544476499\n",
      "lin_dist:1.7467930801402363, ang_dist:-5.463482808866895\n"
     ]
    }
   ],
   "source": [
    "# Perform YOLO detection using the `YOLODetector`\n",
    "formatted_output, colour_map = detector.detect_single_image(img)\n",
    "\n",
    "print(\"\\n\")\n",
    "print(formatted_output)\n",
    "print(type(formatted_output))\n",
    "print(\"\\n\")\n",
    "\n",
    "pos = predictor.get_fruit_positions_relative_to_camera(formatted_output,fruit='mango')\n",
    "pos = pos[0]\n",
    "x_dist = pos[1]\n",
    "z_dist = pos[2]\n",
    "print(f\"X distance: {x_dist} , Z distance: {z_dist}\")\n",
    "lin_dist = (x_dist ** 2 + z_dist ** 2) ** 0.5\n",
    "ang_dist = np.arctan(x_dist/z_dist)\n",
    "ang_dist = ang_dist * 180 / 3.1415926\n",
    "print(f\"lin_dist:{lin_dist}, ang_dist:{ang_dist}\")"
   ]
  },
  {
   "cell_type": "code",
   "execution_count": null,
   "metadata": {},
   "outputs": [],
   "source": []
  }
 ],
 "metadata": {
  "kernelspec": {
   "display_name": "venv",
   "language": "python",
   "name": "python3"
  },
  "language_info": {
   "codemirror_mode": {
    "name": "ipython",
    "version": 3
   },
   "file_extension": ".py",
   "mimetype": "text/x-python",
   "name": "python",
   "nbconvert_exporter": "python",
   "pygments_lexer": "ipython3",
   "version": "3.10.11"
  }
 },
 "nbformat": 4,
 "nbformat_minor": 2
}
