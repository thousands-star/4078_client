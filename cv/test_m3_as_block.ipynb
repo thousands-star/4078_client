{
 "cells": [
  {
   "cell_type": "code",
   "execution_count": 3,
   "metadata": {},
   "outputs": [
    {
     "data": {
      "text/plain": [
       "{'redapple': [], 'greenapple': [], 'orange': [], 'mango': [], 'capsicum': []}"
      ]
     },
     "execution_count": 3,
     "metadata": {},
     "output_type": "execute_result"
    }
   ],
   "source": [
    "from path_planner.path_finding import MapReader\n",
    "from cv.predictor import *\n",
    "\n",
    "mapReader = MapReader(map_fname=\"truemap_cv.txt\", search_list=\"search_list.txt\")\n",
    "fruit, fruit_loc, aruco_loc = mapReader.load_map_data()\n",
    "# print(fruit)\n",
    "# print(fruit_loc)\n",
    "# print(aruco_loc)\n",
    "\n",
    "fruit_predictor = Fruit_Predictor(camera_matrix_file=f\"calibration/param/intrinsic.txt\")\n",
    "fruit_predictor.set_ground_truth(fruit_list=fruit,fruit_pos=fruit_loc)\n",
    "fruit_predictor.get_position()"
   ]
  }
 ],
 "metadata": {
  "kernelspec": {
   "display_name": "venv",
   "language": "python",
   "name": "python3"
  },
  "language_info": {
   "codemirror_mode": {
    "name": "ipython",
    "version": 3
   },
   "file_extension": ".py",
   "mimetype": "text/x-python",
   "name": "python",
   "nbconvert_exporter": "python",
   "pygments_lexer": "ipython3",
   "version": "3.10.11"
  }
 },
 "nbformat": 4,
 "nbformat_minor": 2
}
